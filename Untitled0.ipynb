{
 "metadata": {
  "name": ""
 },
 "nbformat": 3,
 "nbformat_minor": 0,
 "worksheets": [
  {
   "cells": [
    {
     "cell_type": "code",
     "collapsed": false,
     "input": [
      "from bs4 import BeautifulSoup\n",
      "import mechanize\n",
      "import re"
     ],
     "language": "python",
     "metadata": {},
     "outputs": [],
     "prompt_number": 1
    },
    {
     "cell_type": "code",
     "collapsed": false,
     "input": [
      "url = \"http://www.thespread.com/component/statfeeds_reloaded?view=show&sport=mlb&page=mlb/mlbpitcher&pitcherid=BEDARD+ERIK&season=2014\"\n",
      "url = \"http://www.thespread.com/component/statfeeds_reloaded?view=show&sport=mlb&page=mlb/mlbpitcher&pitcherid=BERGMAN+CHRISTIAN&season=2014\""
     ],
     "language": "python",
     "metadata": {},
     "outputs": [],
     "prompt_number": 11
    },
    {
     "cell_type": "code",
     "collapsed": false,
     "input": [
      "br = mechanize.Browser()\n",
      "br.set_handle_robots(False)\n",
      "br.addheaders=[('User-agent','Firefox')]\n",
      "resp = br.open(url)\n",
      "soup = BeautifulSoup(resp.read())"
     ],
     "language": "python",
     "metadata": {},
     "outputs": [],
     "prompt_number": 12
    },
    {
     "cell_type": "code",
     "collapsed": false,
     "input": [
      "stat_regexp = re.compile(r'statwrapper')\n",
      "stat = soup.find(text=stat_regexp)\n",
      "\n",
      "ck_regexp = re.compile(r'\"ck\": \"(.+)\"')\n",
      "match = re.search(ck_regexp, stat)\n",
      "ck_parm = match.group(1)\n",
      "\n",
      "stat_url = 'http://thespread.com/statwrapper.php?ck=' + ck_parm\n",
      "print stat_url\n",
      "stat_resp = br.open(stat_url)\n",
      "stat_soup = BeautifulSoup(stat_resp.read())\n",
      "\n",
      "name = stat_soup.find('th', attrs={'class':'header1'})\n",
      "print name.get_text()\n"
     ],
     "language": "python",
     "metadata": {},
     "outputs": [
      {
       "output_type": "stream",
       "stream": "stdout",
       "text": [
        "http://thespread.com/statwrapper.php?ck=mlb-3fdcb4bfd7c5b355ae4d185b26b30f0c\n",
        "BERGMAN CHRISTIAN"
       ]
      },
      {
       "output_type": "stream",
       "stream": "stdout",
       "text": [
        "\n"
       ]
      }
     ],
     "prompt_number": 13
    }
   ],
   "metadata": {}
  }
 ]
}